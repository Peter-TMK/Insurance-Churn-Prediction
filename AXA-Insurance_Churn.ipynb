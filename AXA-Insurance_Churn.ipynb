{
 "cells": [
  {
   "cell_type": "code",
   "execution_count": 1,
   "metadata": {},
   "outputs": [],
   "source": [
    "import numpy as np\n",
    "import pandas as pd\n",
    "from catboost import CatBoostClassifier\n",
    "import os\n",
    "from tqdm import *\n",
    "from sklearn.metrics import *\n",
    "import warnings \n",
    "warnings.simplefilter('ignore')\n",
    "from IPython.core.interactiveshell import InteractiveShell\n",
    "InteractiveShell.ast_node_interactive = \"all\""
   ]
  },
  {
   "cell_type": "code",
   "execution_count": 2,
   "metadata": {},
   "outputs": [
    {
     "name": "stdout",
     "output_type": "stream",
     "text": [
      "Wall time: 1.87 s\n"
     ]
    }
   ],
   "source": [
    "%%time\n",
    "payment_history = pd.read_csv('payment_history.csv')\n",
    "client_data = pd.read_csv('client_data.csv')\n",
    "policy_df = pd.read_csv('policy_data.csv')\n",
    "train_data = pd.read_csv('Trainset.csv')"
   ]
  },
  {
   "cell_type": "code",
   "execution_count": 3,
   "metadata": {},
   "outputs": [
    {
     "data": {
      "text/html": [
       "<div>\n",
       "<style scoped>\n",
       "    .dataframe tbody tr th:only-of-type {\n",
       "        vertical-align: middle;\n",
       "    }\n",
       "\n",
       "    .dataframe tbody tr th {\n",
       "        vertical-align: top;\n",
       "    }\n",
       "\n",
       "    .dataframe thead th {\n",
       "        text-align: right;\n",
       "    }\n",
       "</style>\n",
       "<table border=\"1\" class=\"dataframe\">\n",
       "  <thead>\n",
       "    <tr style=\"text-align: right;\">\n",
       "      <th></th>\n",
       "      <th>Policy ID</th>\n",
       "      <th>NPH_TITLE</th>\n",
       "      <th>NPH_LASTNAME</th>\n",
       "      <th>NPH_SEX</th>\n",
       "      <th>NPH_BIRTHDATE</th>\n",
       "      <th>NAD_ADDRESS1</th>\n",
       "      <th>NAD_ADDRESS2</th>\n",
       "    </tr>\n",
       "  </thead>\n",
       "  <tbody>\n",
       "    <tr>\n",
       "      <th>86913</th>\n",
       "      <td>PID_EK8DGXF</td>\n",
       "      <td>Ms.</td>\n",
       "      <td>NPH_LASTNAME_P2TIXC7</td>\n",
       "      <td>F</td>\n",
       "      <td>1999</td>\n",
       "      <td>ADDRESS1_WSRXQ43</td>\n",
       "      <td>ADDRESS2_AIIHWOT</td>\n",
       "    </tr>\n",
       "    <tr>\n",
       "      <th>48501</th>\n",
       "      <td>PID_8VJ70ZJ</td>\n",
       "      <td>Ms.</td>\n",
       "      <td>NaN</td>\n",
       "      <td>F</td>\n",
       "      <td>2003</td>\n",
       "      <td>ADDRESS1_WSRXQ43</td>\n",
       "      <td>ADDRESS2_AIIHWOT</td>\n",
       "    </tr>\n",
       "    <tr>\n",
       "      <th>117158</th>\n",
       "      <td>PID_VJLU1FW</td>\n",
       "      <td>Miss.</td>\n",
       "      <td>NPH_LASTNAME_3U48T5E</td>\n",
       "      <td>F</td>\n",
       "      <td>1988</td>\n",
       "      <td>NaN</td>\n",
       "      <td>NaN</td>\n",
       "    </tr>\n",
       "    <tr>\n",
       "      <th>43259</th>\n",
       "      <td>PID_R95OVMI</td>\n",
       "      <td>Mr.</td>\n",
       "      <td>NaN</td>\n",
       "      <td>M</td>\n",
       "      <td>2007</td>\n",
       "      <td>ADDRESS1_WSRXQ43</td>\n",
       "      <td>ADDRESS2_AIIHWOT</td>\n",
       "    </tr>\n",
       "  </tbody>\n",
       "</table>\n",
       "</div>"
      ],
      "text/plain": [
       "          Policy ID NPH_TITLE          NPH_LASTNAME NPH_SEX  NPH_BIRTHDATE  \\\n",
       "86913   PID_EK8DGXF       Ms.  NPH_LASTNAME_P2TIXC7       F           1999   \n",
       "48501   PID_8VJ70ZJ       Ms.                   NaN       F           2003   \n",
       "117158  PID_VJLU1FW     Miss.  NPH_LASTNAME_3U48T5E       F           1988   \n",
       "43259   PID_R95OVMI       Mr.                   NaN       M           2007   \n",
       "\n",
       "            NAD_ADDRESS1      NAD_ADDRESS2  \n",
       "86913   ADDRESS1_WSRXQ43  ADDRESS2_AIIHWOT  \n",
       "48501   ADDRESS1_WSRXQ43  ADDRESS2_AIIHWOT  \n",
       "117158               NaN               NaN  \n",
       "43259   ADDRESS1_WSRXQ43  ADDRESS2_AIIHWOT  "
      ]
     },
     "execution_count": 3,
     "metadata": {},
     "output_type": "execute_result"
    }
   ],
   "source": [
    "client_data.sample(4, random_state=0)"
   ]
  },
  {
   "cell_type": "code",
   "execution_count": 4,
   "metadata": {},
   "outputs": [],
   "source": [
    "test_set =train_data.loc[train_data[\"Lapse\"]==\"?\"]\n",
    "\n",
    "train_set=train_data.loc[train_data[\"Lapse\"] !=\"?\"]"
   ]
  },
  {
   "cell_type": "markdown",
   "metadata": {},
   "source": [
    "# Creating Train Data"
   ]
  },
  {
   "cell_type": "code",
   "execution_count": 5,
   "metadata": {},
   "outputs": [
    {
     "data": {
      "text/html": [
       "<div>\n",
       "<style scoped>\n",
       "    .dataframe tbody tr th:only-of-type {\n",
       "        vertical-align: middle;\n",
       "    }\n",
       "\n",
       "    .dataframe tbody tr th {\n",
       "        vertical-align: top;\n",
       "    }\n",
       "\n",
       "    .dataframe thead th {\n",
       "        text-align: right;\n",
       "    }\n",
       "</style>\n",
       "<table border=\"1\" class=\"dataframe\">\n",
       "  <thead>\n",
       "    <tr style=\"text-align: right;\">\n",
       "      <th></th>\n",
       "      <th>Policy ID</th>\n",
       "      <th>NP2_EFFECTDATE</th>\n",
       "      <th>PPR_PRODCD</th>\n",
       "      <th>NPR_PREMIUM</th>\n",
       "      <th>NPH_LASTNAME</th>\n",
       "      <th>CLF_LIFECD</th>\n",
       "      <th>NSP_SUBPROPOSAL</th>\n",
       "      <th>NPR_SUMASSURED</th>\n",
       "      <th>NLO_TYPE</th>\n",
       "      <th>NLO_AMOUNT</th>\n",
       "      <th>AAG_AGCODE</th>\n",
       "      <th>PCL_LOCATCODE</th>\n",
       "      <th>OCCUPATION</th>\n",
       "      <th>CATEGORY</th>\n",
       "      <th>Lapse</th>\n",
       "      <th>Lapse Year</th>\n",
       "      <th>Customer Info Exist</th>\n",
       "      <th>Has Payment History</th>\n",
       "      <th>Policy Info Exist</th>\n",
       "    </tr>\n",
       "  </thead>\n",
       "  <tbody>\n",
       "    <tr>\n",
       "      <th>282810</th>\n",
       "      <td>PID_7P0IXF8</td>\n",
       "      <td>1/5/2017</td>\n",
       "      <td>PPR_PRODCD_KOFUYNN</td>\n",
       "      <td>2109.812579</td>\n",
       "      <td>NPH_LASTNAME_C11UH3D</td>\n",
       "      <td>3</td>\n",
       "      <td>555</td>\n",
       "      <td>74968.903115</td>\n",
       "      <td>NLO_TYPE_DPBHSAH</td>\n",
       "      <td>NaN</td>\n",
       "      <td>AAG_AGCODE_1OCF2N0</td>\n",
       "      <td>PCL_LOCATCODE_SPQHMX5</td>\n",
       "      <td>OCCUPATION_IKCIDKW</td>\n",
       "      <td>CATEGORY_R821UZV</td>\n",
       "      <td>0</td>\n",
       "      <td>NaN</td>\n",
       "      <td>NaN</td>\n",
       "      <td>NaN</td>\n",
       "      <td>NaN</td>\n",
       "    </tr>\n",
       "    <tr>\n",
       "      <th>282811</th>\n",
       "      <td>PID_Q1QLPUQ</td>\n",
       "      <td>1/11/2018</td>\n",
       "      <td>PPR_PRODCD_KOFUYNN</td>\n",
       "      <td>346.027849</td>\n",
       "      <td>NPH_LASTNAME_4PA8HYE</td>\n",
       "      <td>2</td>\n",
       "      <td>222</td>\n",
       "      <td>45513.429325</td>\n",
       "      <td>NLO_TYPE_DPBHSAH</td>\n",
       "      <td>NaN</td>\n",
       "      <td>AAG_AGCODE_M4MM4QC</td>\n",
       "      <td>PCL_LOCATCODE_SPQHMX5</td>\n",
       "      <td>OCCUPATION_IKCIDKW</td>\n",
       "      <td>CATEGORY_R821UZV</td>\n",
       "      <td>0</td>\n",
       "      <td>NaN</td>\n",
       "      <td>NaN</td>\n",
       "      <td>NaN</td>\n",
       "      <td>NaN</td>\n",
       "    </tr>\n",
       "    <tr>\n",
       "      <th>282812</th>\n",
       "      <td>PID_NEDS3A9</td>\n",
       "      <td>1/7/2017</td>\n",
       "      <td>PPR_PRODCD_KOFUYNN</td>\n",
       "      <td>217.975890</td>\n",
       "      <td>NPH_LASTNAME_XF7JXJN</td>\n",
       "      <td>3</td>\n",
       "      <td>333</td>\n",
       "      <td>45513.429325</td>\n",
       "      <td>NLO_TYPE_DPBHSAH</td>\n",
       "      <td>NaN</td>\n",
       "      <td>AAG_AGCODE_DAP1YRU</td>\n",
       "      <td>PCL_LOCATCODE_0T6GYGX</td>\n",
       "      <td>OCCUPATION_NNHJ7XV</td>\n",
       "      <td>CATEGORY_GWW4FYB</td>\n",
       "      <td>1</td>\n",
       "      <td>2018</td>\n",
       "      <td>0.0</td>\n",
       "      <td>1.0</td>\n",
       "      <td>1.0</td>\n",
       "    </tr>\n",
       "    <tr>\n",
       "      <th>282813</th>\n",
       "      <td>PID_U8QKEJK</td>\n",
       "      <td>1/6/2017</td>\n",
       "      <td>PPR_PRODCD_W0F6GK1</td>\n",
       "      <td>5233.874657</td>\n",
       "      <td>NPH_LASTNAME_TE9AFPP</td>\n",
       "      <td>2</td>\n",
       "      <td>222</td>\n",
       "      <td>238857.872515</td>\n",
       "      <td>NLO_TYPE_XAJI0Y6</td>\n",
       "      <td>1075.892081</td>\n",
       "      <td>AAG_AGCODE_L1YVKZO</td>\n",
       "      <td>PCL_LOCATCODE_PEU5TF2</td>\n",
       "      <td>OCCUPATION_IKCIDKW</td>\n",
       "      <td>CATEGORY_R821UZV</td>\n",
       "      <td>0</td>\n",
       "      <td>NaN</td>\n",
       "      <td>NaN</td>\n",
       "      <td>NaN</td>\n",
       "      <td>NaN</td>\n",
       "    </tr>\n",
       "    <tr>\n",
       "      <th>282814</th>\n",
       "      <td>PID_5US8QG7</td>\n",
       "      <td>1/9/2019</td>\n",
       "      <td>PPR_PRODCD_W0F6GK1</td>\n",
       "      <td>3990.141182</td>\n",
       "      <td>NPH_LASTNAME_3WBJCBF</td>\n",
       "      <td>1</td>\n",
       "      <td>111</td>\n",
       "      <td>393442.396414</td>\n",
       "      <td>NLO_TYPE_XAJI0Y6</td>\n",
       "      <td>820.226234</td>\n",
       "      <td>AAG_AGCODE_L1YVKZO</td>\n",
       "      <td>PCL_LOCATCODE_PEU5TF2</td>\n",
       "      <td>OCCUPATION_IKCIDKW</td>\n",
       "      <td>CATEGORY_R821UZV</td>\n",
       "      <td>0</td>\n",
       "      <td>NaN</td>\n",
       "      <td>NaN</td>\n",
       "      <td>NaN</td>\n",
       "      <td>NaN</td>\n",
       "    </tr>\n",
       "  </tbody>\n",
       "</table>\n",
       "</div>"
      ],
      "text/plain": [
       "          Policy ID NP2_EFFECTDATE          PPR_PRODCD  NPR_PREMIUM  \\\n",
       "282810  PID_7P0IXF8       1/5/2017  PPR_PRODCD_KOFUYNN  2109.812579   \n",
       "282811  PID_Q1QLPUQ      1/11/2018  PPR_PRODCD_KOFUYNN   346.027849   \n",
       "282812  PID_NEDS3A9       1/7/2017  PPR_PRODCD_KOFUYNN   217.975890   \n",
       "282813  PID_U8QKEJK       1/6/2017  PPR_PRODCD_W0F6GK1  5233.874657   \n",
       "282814  PID_5US8QG7       1/9/2019  PPR_PRODCD_W0F6GK1  3990.141182   \n",
       "\n",
       "                NPH_LASTNAME  CLF_LIFECD  NSP_SUBPROPOSAL  NPR_SUMASSURED  \\\n",
       "282810  NPH_LASTNAME_C11UH3D           3              555    74968.903115   \n",
       "282811  NPH_LASTNAME_4PA8HYE           2              222    45513.429325   \n",
       "282812  NPH_LASTNAME_XF7JXJN           3              333    45513.429325   \n",
       "282813  NPH_LASTNAME_TE9AFPP           2              222   238857.872515   \n",
       "282814  NPH_LASTNAME_3WBJCBF           1              111   393442.396414   \n",
       "\n",
       "                NLO_TYPE   NLO_AMOUNT          AAG_AGCODE  \\\n",
       "282810  NLO_TYPE_DPBHSAH          NaN  AAG_AGCODE_1OCF2N0   \n",
       "282811  NLO_TYPE_DPBHSAH          NaN  AAG_AGCODE_M4MM4QC   \n",
       "282812  NLO_TYPE_DPBHSAH          NaN  AAG_AGCODE_DAP1YRU   \n",
       "282813  NLO_TYPE_XAJI0Y6  1075.892081  AAG_AGCODE_L1YVKZO   \n",
       "282814  NLO_TYPE_XAJI0Y6   820.226234  AAG_AGCODE_L1YVKZO   \n",
       "\n",
       "                PCL_LOCATCODE          OCCUPATION          CATEGORY  Lapse  \\\n",
       "282810  PCL_LOCATCODE_SPQHMX5  OCCUPATION_IKCIDKW  CATEGORY_R821UZV      0   \n",
       "282811  PCL_LOCATCODE_SPQHMX5  OCCUPATION_IKCIDKW  CATEGORY_R821UZV      0   \n",
       "282812  PCL_LOCATCODE_0T6GYGX  OCCUPATION_NNHJ7XV  CATEGORY_GWW4FYB      1   \n",
       "282813  PCL_LOCATCODE_PEU5TF2  OCCUPATION_IKCIDKW  CATEGORY_R821UZV      0   \n",
       "282814  PCL_LOCATCODE_PEU5TF2  OCCUPATION_IKCIDKW  CATEGORY_R821UZV      0   \n",
       "\n",
       "       Lapse Year  Customer Info Exist   Has Payment History  \\\n",
       "282810        NaN                   NaN                  NaN   \n",
       "282811        NaN                   NaN                  NaN   \n",
       "282812       2018                   0.0                  1.0   \n",
       "282813        NaN                   NaN                  NaN   \n",
       "282814        NaN                   NaN                  NaN   \n",
       "\n",
       "        Policy Info Exist  \n",
       "282810                NaN  \n",
       "282811                NaN  \n",
       "282812                1.0  \n",
       "282813                NaN  \n",
       "282814                NaN  "
      ]
     },
     "execution_count": 5,
     "metadata": {},
     "output_type": "execute_result"
    }
   ],
   "source": [
    "first_mrg = pd.merge(policy_df, train_set, on=\"Policy ID\",how='left')\n",
    "first_mrg['Lapse'] = first_mrg['Lapse'].replace(np.nan,0)\n",
    "first_mrg['Lapse'] = first_mrg['Lapse'].replace('1',1)\n",
    "first_mrg.tail()"
   ]
  },
  {
   "cell_type": "code",
   "execution_count": 6,
   "metadata": {},
   "outputs": [
    {
     "data": {
      "text/plain": [
       "Index(['Policy ID', 'NP2_EFFECTDATE', 'PPR_PRODCD', 'NPR_PREMIUM',\n",
       "       'NPH_LASTNAME', 'CLF_LIFECD', 'NSP_SUBPROPOSAL', 'NPR_SUMASSURED',\n",
       "       'NLO_TYPE', 'NLO_AMOUNT', 'AAG_AGCODE', 'PCL_LOCATCODE', 'OCCUPATION',\n",
       "       'CATEGORY', 'Lapse', 'Lapse Year', 'Customer Info Exist ',\n",
       "       'Has Payment History', 'Policy Info Exist'],\n",
       "      dtype='object')"
      ]
     },
     "execution_count": 6,
     "metadata": {},
     "output_type": "execute_result"
    }
   ],
   "source": [
    "first_mrg.columns"
   ]
  },
  {
   "cell_type": "code",
   "execution_count": 7,
   "metadata": {},
   "outputs": [
    {
     "data": {
      "text/plain": [
       "0    225260\n",
       "1     57555\n",
       "Name: Lapse, dtype: int64"
      ]
     },
     "execution_count": 7,
     "metadata": {},
     "output_type": "execute_result"
    }
   ],
   "source": [
    "first_mrg['Lapse'].value_counts()"
   ]
  },
  {
   "cell_type": "code",
   "execution_count": 8,
   "metadata": {},
   "outputs": [
    {
     "name": "stdout",
     "output_type": "stream",
     "text": [
      "The shape of our train file will be  (282815, 19)\n"
     ]
    }
   ],
   "source": [
    "print('The shape of our train file will be ',first_mrg.shape)"
   ]
  },
  {
   "cell_type": "markdown",
   "metadata": {},
   "source": [
    "# Creating Test Data"
   ]
  },
  {
   "cell_type": "code",
   "execution_count": 9,
   "metadata": {},
   "outputs": [
    {
     "data": {
      "text/html": [
       "<div>\n",
       "<style scoped>\n",
       "    .dataframe tbody tr th:only-of-type {\n",
       "        vertical-align: middle;\n",
       "    }\n",
       "\n",
       "    .dataframe tbody tr th {\n",
       "        vertical-align: top;\n",
       "    }\n",
       "\n",
       "    .dataframe thead th {\n",
       "        text-align: right;\n",
       "    }\n",
       "</style>\n",
       "<table border=\"1\" class=\"dataframe\">\n",
       "  <thead>\n",
       "    <tr style=\"text-align: right;\">\n",
       "      <th></th>\n",
       "      <th>Policy ID</th>\n",
       "      <th>Lapse</th>\n",
       "      <th>Lapse Year</th>\n",
       "      <th>Customer Info Exist</th>\n",
       "      <th>Has Payment History</th>\n",
       "      <th>Policy Info Exist</th>\n",
       "      <th>NP2_EFFECTDATE</th>\n",
       "      <th>PPR_PRODCD</th>\n",
       "      <th>NPR_PREMIUM</th>\n",
       "      <th>NPH_LASTNAME</th>\n",
       "      <th>CLF_LIFECD</th>\n",
       "      <th>NSP_SUBPROPOSAL</th>\n",
       "      <th>NPR_SUMASSURED</th>\n",
       "      <th>NLO_TYPE</th>\n",
       "      <th>NLO_AMOUNT</th>\n",
       "      <th>AAG_AGCODE</th>\n",
       "      <th>PCL_LOCATCODE</th>\n",
       "      <th>OCCUPATION</th>\n",
       "      <th>CATEGORY</th>\n",
       "    </tr>\n",
       "  </thead>\n",
       "  <tbody>\n",
       "    <tr>\n",
       "      <th>60854</th>\n",
       "      <td>PID_SS1MY5J</td>\n",
       "      <td>?</td>\n",
       "      <td>?</td>\n",
       "      <td>0</td>\n",
       "      <td>1</td>\n",
       "      <td>1</td>\n",
       "      <td>1/4/2017</td>\n",
       "      <td>PPR_PRODCD_64QNIHM</td>\n",
       "      <td>3187.154301</td>\n",
       "      <td>NPH_LASTNAME_L2UG05W</td>\n",
       "      <td>1</td>\n",
       "      <td>111</td>\n",
       "      <td>93051.091101</td>\n",
       "      <td>NLO_TYPE_XTHV3A3</td>\n",
       "      <td>694.491386</td>\n",
       "      <td>AAG_AGCODE_Z8TCR6I</td>\n",
       "      <td>PCL_LOCATCODE_0T6GYGX</td>\n",
       "      <td>OCCUPATION_NNHJ7XV</td>\n",
       "      <td>CATEGORY_GWW4FYB</td>\n",
       "    </tr>\n",
       "    <tr>\n",
       "      <th>60856</th>\n",
       "      <td>PID_JP7EKSU</td>\n",
       "      <td>?</td>\n",
       "      <td>?</td>\n",
       "      <td>1</td>\n",
       "      <td>1</td>\n",
       "      <td>1</td>\n",
       "      <td>1/12/2018</td>\n",
       "      <td>PPR_PRODCD_64QNIHM</td>\n",
       "      <td>2795.069380</td>\n",
       "      <td>NPH_LASTNAME_XPBWHVN</td>\n",
       "      <td>1</td>\n",
       "      <td>111</td>\n",
       "      <td>143964.463454</td>\n",
       "      <td>NLO_TYPE_XAJI0Y6</td>\n",
       "      <td>471.115025</td>\n",
       "      <td>AAG_AGCODE_LHQRBN4</td>\n",
       "      <td>PCL_LOCATCODE_7VFS3EQ</td>\n",
       "      <td>OCCUPATION_WI64CIY</td>\n",
       "      <td>CATEGORY_GWW4FYB</td>\n",
       "    </tr>\n",
       "    <tr>\n",
       "      <th>60858</th>\n",
       "      <td>PID_J1V7RQI</td>\n",
       "      <td>?</td>\n",
       "      <td>?</td>\n",
       "      <td>1</td>\n",
       "      <td>1</td>\n",
       "      <td>1</td>\n",
       "      <td>1/10/2018</td>\n",
       "      <td>PPR_PRODCD_KOFUYNN</td>\n",
       "      <td>694.491386</td>\n",
       "      <td>NPH_LASTNAME_E5S5BF7</td>\n",
       "      <td>2</td>\n",
       "      <td>555</td>\n",
       "      <td>45513.429325</td>\n",
       "      <td>NLO_TYPE_DPBHSAH</td>\n",
       "      <td>NaN</td>\n",
       "      <td>AAG_AGCODE_AK2UJ2T</td>\n",
       "      <td>PCL_LOCATCODE_O6OBSFL</td>\n",
       "      <td>OCCUPATION_NNHJ7XV</td>\n",
       "      <td>CATEGORY_GWW4FYB</td>\n",
       "    </tr>\n",
       "    <tr>\n",
       "      <th>60870</th>\n",
       "      <td>PID_P2KAC4Y</td>\n",
       "      <td>?</td>\n",
       "      <td>?</td>\n",
       "      <td>0</td>\n",
       "      <td>1</td>\n",
       "      <td>1</td>\n",
       "      <td>1/3/2018</td>\n",
       "      <td>PPR_PRODCD_KOFUYNN</td>\n",
       "      <td>359.045970</td>\n",
       "      <td>NPH_LASTNAME_KBPB6YW</td>\n",
       "      <td>3</td>\n",
       "      <td>444</td>\n",
       "      <td>74968.903115</td>\n",
       "      <td>NLO_TYPE_DPBHSAH</td>\n",
       "      <td>NaN</td>\n",
       "      <td>AAG_AGCODE_6JA6X8M</td>\n",
       "      <td>PCL_LOCATCODE_7VFS3EQ</td>\n",
       "      <td>OCCUPATION_NNHJ7XV</td>\n",
       "      <td>CATEGORY_GWW4FYB</td>\n",
       "    </tr>\n",
       "    <tr>\n",
       "      <th>60880</th>\n",
       "      <td>PID_8Y9WWHO</td>\n",
       "      <td>?</td>\n",
       "      <td>?</td>\n",
       "      <td>1</td>\n",
       "      <td>1</td>\n",
       "      <td>1</td>\n",
       "      <td>1/11/2018</td>\n",
       "      <td>PPR_PRODCD_W0F6GK1</td>\n",
       "      <td>3607.052915</td>\n",
       "      <td>NPH_LASTNAME_BO119XP</td>\n",
       "      <td>1</td>\n",
       "      <td>111</td>\n",
       "      <td>319834.468881</td>\n",
       "      <td>NLO_TYPE_XAJI0Y6</td>\n",
       "      <td>742.199413</td>\n",
       "      <td>AAG_AGCODE_L1YVKZO</td>\n",
       "      <td>PCL_LOCATCODE_PEU5TF2</td>\n",
       "      <td>OCCUPATION_IKCIDKW</td>\n",
       "      <td>CATEGORY_R821UZV</td>\n",
       "    </tr>\n",
       "  </tbody>\n",
       "</table>\n",
       "</div>"
      ],
      "text/plain": [
       "         Policy ID Lapse Lapse Year  Customer Info Exist   \\\n",
       "60854  PID_SS1MY5J     ?          ?                     0   \n",
       "60856  PID_JP7EKSU     ?          ?                     1   \n",
       "60858  PID_J1V7RQI     ?          ?                     1   \n",
       "60870  PID_P2KAC4Y     ?          ?                     0   \n",
       "60880  PID_8Y9WWHO     ?          ?                     1   \n",
       "\n",
       "       Has Payment History  Policy Info Exist NP2_EFFECTDATE  \\\n",
       "60854                    1                  1       1/4/2017   \n",
       "60856                    1                  1      1/12/2018   \n",
       "60858                    1                  1      1/10/2018   \n",
       "60870                    1                  1       1/3/2018   \n",
       "60880                    1                  1      1/11/2018   \n",
       "\n",
       "               PPR_PRODCD  NPR_PREMIUM          NPH_LASTNAME  CLF_LIFECD  \\\n",
       "60854  PPR_PRODCD_64QNIHM  3187.154301  NPH_LASTNAME_L2UG05W           1   \n",
       "60856  PPR_PRODCD_64QNIHM  2795.069380  NPH_LASTNAME_XPBWHVN           1   \n",
       "60858  PPR_PRODCD_KOFUYNN   694.491386  NPH_LASTNAME_E5S5BF7           2   \n",
       "60870  PPR_PRODCD_KOFUYNN   359.045970  NPH_LASTNAME_KBPB6YW           3   \n",
       "60880  PPR_PRODCD_W0F6GK1  3607.052915  NPH_LASTNAME_BO119XP           1   \n",
       "\n",
       "       NSP_SUBPROPOSAL  NPR_SUMASSURED          NLO_TYPE  NLO_AMOUNT  \\\n",
       "60854              111    93051.091101  NLO_TYPE_XTHV3A3  694.491386   \n",
       "60856              111   143964.463454  NLO_TYPE_XAJI0Y6  471.115025   \n",
       "60858              555    45513.429325  NLO_TYPE_DPBHSAH         NaN   \n",
       "60870              444    74968.903115  NLO_TYPE_DPBHSAH         NaN   \n",
       "60880              111   319834.468881  NLO_TYPE_XAJI0Y6  742.199413   \n",
       "\n",
       "               AAG_AGCODE          PCL_LOCATCODE          OCCUPATION  \\\n",
       "60854  AAG_AGCODE_Z8TCR6I  PCL_LOCATCODE_0T6GYGX  OCCUPATION_NNHJ7XV   \n",
       "60856  AAG_AGCODE_LHQRBN4  PCL_LOCATCODE_7VFS3EQ  OCCUPATION_WI64CIY   \n",
       "60858  AAG_AGCODE_AK2UJ2T  PCL_LOCATCODE_O6OBSFL  OCCUPATION_NNHJ7XV   \n",
       "60870  AAG_AGCODE_6JA6X8M  PCL_LOCATCODE_7VFS3EQ  OCCUPATION_NNHJ7XV   \n",
       "60880  AAG_AGCODE_L1YVKZO  PCL_LOCATCODE_PEU5TF2  OCCUPATION_IKCIDKW   \n",
       "\n",
       "               CATEGORY  \n",
       "60854  CATEGORY_GWW4FYB  \n",
       "60856  CATEGORY_GWW4FYB  \n",
       "60858  CATEGORY_GWW4FYB  \n",
       "60870  CATEGORY_GWW4FYB  \n",
       "60880  CATEGORY_R821UZV  "
      ]
     },
     "execution_count": 9,
     "metadata": {},
     "output_type": "execute_result"
    }
   ],
   "source": [
    "second_mrg  = pd.merge(test_set,policy_df, on=\"Policy ID\",how='left')\n",
    "second_mrg  = second_mrg.drop_duplicates(subset='Policy ID')\n",
    "second_mrg.tail()"
   ]
  },
  {
   "cell_type": "code",
   "execution_count": 10,
   "metadata": {},
   "outputs": [
    {
     "data": {
      "text/plain": [
       "((282815, 19), (12000, 19))"
      ]
     },
     "execution_count": 10,
     "metadata": {},
     "output_type": "execute_result"
    }
   ],
   "source": [
    "first_mrg.shape, second_mrg.shape"
   ]
  },
  {
   "cell_type": "code",
   "execution_count": 11,
   "metadata": {},
   "outputs": [
    {
     "data": {
      "text/plain": [
       "225260"
      ]
     },
     "execution_count": 11,
     "metadata": {},
     "output_type": "execute_result"
    }
   ],
   "source": [
    "first_mrg['Customer Info Exist '].isnull().sum()"
   ]
  },
  {
   "cell_type": "code",
   "execution_count": 12,
   "metadata": {},
   "outputs": [
    {
     "data": {
      "text/html": [
       "<div>\n",
       "<style scoped>\n",
       "    .dataframe tbody tr th:only-of-type {\n",
       "        vertical-align: middle;\n",
       "    }\n",
       "\n",
       "    .dataframe tbody tr th {\n",
       "        vertical-align: top;\n",
       "    }\n",
       "\n",
       "    .dataframe thead th {\n",
       "        text-align: right;\n",
       "    }\n",
       "</style>\n",
       "<table border=\"1\" class=\"dataframe\">\n",
       "  <thead>\n",
       "    <tr style=\"text-align: right;\">\n",
       "      <th></th>\n",
       "      <th>Policy ID</th>\n",
       "      <th>NP2_EFFECTDATE</th>\n",
       "      <th>PPR_PRODCD</th>\n",
       "      <th>NPR_PREMIUM</th>\n",
       "      <th>NPH_LASTNAME</th>\n",
       "      <th>CLF_LIFECD</th>\n",
       "      <th>NSP_SUBPROPOSAL</th>\n",
       "      <th>NPR_SUMASSURED</th>\n",
       "      <th>NLO_TYPE</th>\n",
       "      <th>NLO_AMOUNT</th>\n",
       "      <th>AAG_AGCODE</th>\n",
       "      <th>PCL_LOCATCODE</th>\n",
       "      <th>OCCUPATION</th>\n",
       "      <th>CATEGORY</th>\n",
       "      <th>Lapse</th>\n",
       "      <th>Lapse Year</th>\n",
       "      <th>Customer Info Exist</th>\n",
       "      <th>Has Payment History</th>\n",
       "      <th>Policy Info Exist</th>\n",
       "    </tr>\n",
       "  </thead>\n",
       "  <tbody>\n",
       "    <tr>\n",
       "      <th>0</th>\n",
       "      <td>PID_EPZDSP8</td>\n",
       "      <td>1/9/2019</td>\n",
       "      <td>PPR_PRODCD_B2KVCE7</td>\n",
       "      <td>265.724174</td>\n",
       "      <td>NPH_LASTNAME_BPN2LEB</td>\n",
       "      <td>2</td>\n",
       "      <td>222</td>\n",
       "      <td>NaN</td>\n",
       "      <td>NLO_TYPE_DPBHSAH</td>\n",
       "      <td>NaN</td>\n",
       "      <td>AAG_AGCODE_APWOOPE</td>\n",
       "      <td>PCL_LOCATCODE_7SHK7I9</td>\n",
       "      <td>OCCUPATION_NNHJ7XV</td>\n",
       "      <td>CATEGORY_GWW4FYB</td>\n",
       "      <td>0</td>\n",
       "      <td>NaN</td>\n",
       "      <td>NaN</td>\n",
       "      <td>NaN</td>\n",
       "      <td>NaN</td>\n",
       "    </tr>\n",
       "    <tr>\n",
       "      <th>1</th>\n",
       "      <td>PID_6M6G9IB</td>\n",
       "      <td>1/8/2018</td>\n",
       "      <td>PPR_PRODCD_64QNIHM</td>\n",
       "      <td>2795.069380</td>\n",
       "      <td>NPH_LASTNAME_U2H3GC6</td>\n",
       "      <td>1</td>\n",
       "      <td>111</td>\n",
       "      <td>213380.713197</td>\n",
       "      <td>NLO_TYPE_XTHV3A3</td>\n",
       "      <td>609.054794</td>\n",
       "      <td>AAG_AGCODE_9Z3FBGA</td>\n",
       "      <td>PCL_LOCATCODE_7VFS3EQ</td>\n",
       "      <td>OCCUPATION_IKCIDKW</td>\n",
       "      <td>CATEGORY_R821UZV</td>\n",
       "      <td>0</td>\n",
       "      <td>NaN</td>\n",
       "      <td>NaN</td>\n",
       "      <td>NaN</td>\n",
       "      <td>NaN</td>\n",
       "    </tr>\n",
       "  </tbody>\n",
       "</table>\n",
       "</div>"
      ],
      "text/plain": [
       "     Policy ID NP2_EFFECTDATE          PPR_PRODCD  NPR_PREMIUM  \\\n",
       "0  PID_EPZDSP8       1/9/2019  PPR_PRODCD_B2KVCE7   265.724174   \n",
       "1  PID_6M6G9IB       1/8/2018  PPR_PRODCD_64QNIHM  2795.069380   \n",
       "\n",
       "           NPH_LASTNAME  CLF_LIFECD  NSP_SUBPROPOSAL  NPR_SUMASSURED  \\\n",
       "0  NPH_LASTNAME_BPN2LEB           2              222             NaN   \n",
       "1  NPH_LASTNAME_U2H3GC6           1              111   213380.713197   \n",
       "\n",
       "           NLO_TYPE  NLO_AMOUNT          AAG_AGCODE          PCL_LOCATCODE  \\\n",
       "0  NLO_TYPE_DPBHSAH         NaN  AAG_AGCODE_APWOOPE  PCL_LOCATCODE_7SHK7I9   \n",
       "1  NLO_TYPE_XTHV3A3  609.054794  AAG_AGCODE_9Z3FBGA  PCL_LOCATCODE_7VFS3EQ   \n",
       "\n",
       "           OCCUPATION          CATEGORY  Lapse Lapse Year  \\\n",
       "0  OCCUPATION_NNHJ7XV  CATEGORY_GWW4FYB      0        NaN   \n",
       "1  OCCUPATION_IKCIDKW  CATEGORY_R821UZV      0        NaN   \n",
       "\n",
       "   Customer Info Exist   Has Payment History  Policy Info Exist  \n",
       "0                   NaN                  NaN                NaN  \n",
       "1                   NaN                  NaN                NaN  "
      ]
     },
     "execution_count": 12,
     "metadata": {},
     "output_type": "execute_result"
    }
   ],
   "source": [
    "first_mrg.head(2)"
   ]
  },
  {
   "cell_type": "code",
   "execution_count": 13,
   "metadata": {},
   "outputs": [],
   "source": [
    "#prepare target\n",
    "target_y = first_mrg['Lapse'].values"
   ]
  },
  {
   "cell_type": "code",
   "execution_count": 14,
   "metadata": {},
   "outputs": [],
   "source": [
    "second_mrg=second_mrg.copy()\n",
    "id_p=second_mrg['Policy ID']"
   ]
  },
  {
   "cell_type": "code",
   "execution_count": 15,
   "metadata": {},
   "outputs": [],
   "source": [
    "to_drop_cols = ['Policy ID','Lapse Year','NP2_EFFECTDATE','NPH_LASTNAME','Lapse','NLO_AMOUNT']\n",
    "first_mrg   = first_mrg.drop(to_drop_cols,axis=1)\n",
    "second_mrg  = second_mrg.drop(to_drop_cols,axis=1)"
   ]
  },
  {
   "cell_type": "code",
   "execution_count": 16,
   "metadata": {},
   "outputs": [],
   "source": [
    "first_mrg['NPR_SUMASSURED'].fillna(first_mrg['NPR_SUMASSURED'].mean(), inplace=True)\n",
    "second_mrg['NPR_SUMASSURED'].fillna(second_mrg['NPR_SUMASSURED'].mean(), inplace=True)"
   ]
  },
  {
   "cell_type": "code",
   "execution_count": 17,
   "metadata": {},
   "outputs": [
    {
     "data": {
      "text/plain": [
       "((282815, 13), (12000, 13))"
      ]
     },
     "execution_count": 17,
     "metadata": {},
     "output_type": "execute_result"
    }
   ],
   "source": [
    "first_mrg.shape, second_mrg.shape"
   ]
  },
  {
   "cell_type": "code",
   "execution_count": 18,
   "metadata": {},
   "outputs": [
    {
     "data": {
      "text/plain": [
       "Index(['PPR_PRODCD', 'NPR_PREMIUM', 'CLF_LIFECD', 'NSP_SUBPROPOSAL',\n",
       "       'NPR_SUMASSURED', 'NLO_TYPE', 'AAG_AGCODE', 'PCL_LOCATCODE',\n",
       "       'OCCUPATION', 'CATEGORY', 'Customer Info Exist ', 'Has Payment History',\n",
       "       'Policy Info Exist'],\n",
       "      dtype='object')"
      ]
     },
     "execution_count": 18,
     "metadata": {},
     "output_type": "execute_result"
    }
   ],
   "source": [
    "first_mrg.columns"
   ]
  },
  {
   "cell_type": "code",
   "execution_count": 19,
   "metadata": {},
   "outputs": [],
   "source": [
    "first_mrg=first_mrg[['PPR_PRODCD', 'NPR_PREMIUM', 'CLF_LIFECD', 'NSP_SUBPROPOSAL',\n",
    "       'NPR_SUMASSURED', 'NLO_TYPE', 'AAG_AGCODE', 'PCL_LOCATCODE',\n",
    "       'OCCUPATION', 'CATEGORY']]\n",
    "second_mrg=second_mrg[['PPR_PRODCD', 'NPR_PREMIUM', 'CLF_LIFECD', 'NSP_SUBPROPOSAL',\n",
    "       'NPR_SUMASSURED', 'NLO_TYPE', 'AAG_AGCODE', 'PCL_LOCATCODE',\n",
    "       'OCCUPATION', 'CATEGORY']]"
   ]
  },
  {
   "cell_type": "code",
   "execution_count": 20,
   "metadata": {},
   "outputs": [
    {
     "data": {
      "text/plain": [
       "PPR_PRODCD          object\n",
       "NPR_PREMIUM        float64\n",
       "CLF_LIFECD           int64\n",
       "NSP_SUBPROPOSAL      int64\n",
       "NPR_SUMASSURED     float64\n",
       "NLO_TYPE            object\n",
       "AAG_AGCODE          object\n",
       "PCL_LOCATCODE       object\n",
       "OCCUPATION          object\n",
       "CATEGORY            object\n",
       "dtype: object"
      ]
     },
     "execution_count": 20,
     "metadata": {},
     "output_type": "execute_result"
    }
   ],
   "source": [
    "first_mrg.dtypes"
   ]
  },
  {
   "cell_type": "code",
   "execution_count": 21,
   "metadata": {},
   "outputs": [],
   "source": [
    "first_mrg['PPR_PRODCD'] = first_mrg['PPR_PRODCD'].astype('category').cat.codes\n",
    "first_mrg['NLO_TYPE'] = first_mrg['NLO_TYPE'].astype('category').cat.codes\n",
    "first_mrg['AAG_AGCODE'] = first_mrg['AAG_AGCODE'].astype('category').cat.codes\n",
    "first_mrg['PCL_LOCATCODE'] = first_mrg['PCL_LOCATCODE'].astype('category').cat.codes\n",
    "first_mrg['OCCUPATION'] = first_mrg['OCCUPATION'].astype('category').cat.codes\n",
    "first_mrg['CATEGORY'] = first_mrg['CATEGORY'].astype('category').cat.codes"
   ]
  },
  {
   "cell_type": "code",
   "execution_count": 22,
   "metadata": {},
   "outputs": [],
   "source": [
    "second_mrg['PPR_PRODCD'] = second_mrg['PPR_PRODCD'].astype('category').cat.codes\n",
    "second_mrg['NLO_TYPE'] = second_mrg['NLO_TYPE'].astype('category').cat.codes\n",
    "second_mrg['AAG_AGCODE'] = second_mrg['AAG_AGCODE'].astype('category').cat.codes\n",
    "second_mrg['PCL_LOCATCODE'] = second_mrg['PCL_LOCATCODE'].astype('category').cat.codes\n",
    "second_mrg['OCCUPATION'] = second_mrg['OCCUPATION'].astype('category').cat.codes\n",
    "second_mrg['CATEGORY'] = second_mrg['CATEGORY'].astype('category').cat.codes"
   ]
  },
  {
   "cell_type": "code",
   "execution_count": 23,
   "metadata": {},
   "outputs": [],
   "source": [
    "first_mrg.fillna(230, inplace=True)\n",
    "second_mrg.fillna(230, inplace=True)"
   ]
  },
  {
   "cell_type": "markdown",
   "metadata": {},
   "source": [
    "# Modelling"
   ]
  },
  {
   "cell_type": "code",
   "execution_count": 24,
   "metadata": {},
   "outputs": [],
   "source": [
    "train = first_mrg\n",
    "test  = second_mrg\n",
    "train_y = target_y"
   ]
  },
  {
   "cell_type": "markdown",
   "metadata": {},
   "source": [
    "## Data Summary"
   ]
  },
  {
   "cell_type": "code",
   "execution_count": 25,
   "metadata": {},
   "outputs": [
    {
     "data": {
      "text/html": [
       "<div>\n",
       "<style scoped>\n",
       "    .dataframe tbody tr th:only-of-type {\n",
       "        vertical-align: middle;\n",
       "    }\n",
       "\n",
       "    .dataframe tbody tr th {\n",
       "        vertical-align: top;\n",
       "    }\n",
       "\n",
       "    .dataframe thead th {\n",
       "        text-align: right;\n",
       "    }\n",
       "</style>\n",
       "<table border=\"1\" class=\"dataframe\">\n",
       "  <thead>\n",
       "    <tr style=\"text-align: right;\">\n",
       "      <th></th>\n",
       "      <th>PPR_PRODCD</th>\n",
       "      <th>NPR_PREMIUM</th>\n",
       "      <th>CLF_LIFECD</th>\n",
       "      <th>NSP_SUBPROPOSAL</th>\n",
       "      <th>NPR_SUMASSURED</th>\n",
       "      <th>NLO_TYPE</th>\n",
       "      <th>AAG_AGCODE</th>\n",
       "      <th>PCL_LOCATCODE</th>\n",
       "      <th>OCCUPATION</th>\n",
       "      <th>CATEGORY</th>\n",
       "    </tr>\n",
       "  </thead>\n",
       "  <tbody>\n",
       "    <tr>\n",
       "      <th>count</th>\n",
       "      <td>282815.000000</td>\n",
       "      <td>282815.000000</td>\n",
       "      <td>282815.000000</td>\n",
       "      <td>282815.000000</td>\n",
       "      <td>2.828150e+05</td>\n",
       "      <td>282815.000000</td>\n",
       "      <td>282815.000000</td>\n",
       "      <td>282815.000000</td>\n",
       "      <td>282815.000000</td>\n",
       "      <td>282815.000000</td>\n",
       "    </tr>\n",
       "    <tr>\n",
       "      <th>mean</th>\n",
       "      <td>6.563269</td>\n",
       "      <td>1199.767580</td>\n",
       "      <td>2.565561</td>\n",
       "      <td>314.330135</td>\n",
       "      <td>1.078474e+05</td>\n",
       "      <td>1.700879</td>\n",
       "      <td>302.488277</td>\n",
       "      <td>8.241356</td>\n",
       "      <td>150.310952</td>\n",
       "      <td>2.090101</td>\n",
       "    </tr>\n",
       "    <tr>\n",
       "      <th>std</th>\n",
       "      <td>3.850327</td>\n",
       "      <td>2965.959100</td>\n",
       "      <td>1.534623</td>\n",
       "      <td>214.959089</td>\n",
       "      <td>1.728178e+05</td>\n",
       "      <td>1.058978</td>\n",
       "      <td>168.585970</td>\n",
       "      <td>3.777576</td>\n",
       "      <td>36.183737</td>\n",
       "      <td>0.747259</td>\n",
       "    </tr>\n",
       "    <tr>\n",
       "      <th>min</th>\n",
       "      <td>0.000000</td>\n",
       "      <td>0.000000</td>\n",
       "      <td>1.000000</td>\n",
       "      <td>0.000000</td>\n",
       "      <td>0.000000e+00</td>\n",
       "      <td>0.000000</td>\n",
       "      <td>0.000000</td>\n",
       "      <td>0.000000</td>\n",
       "      <td>0.000000</td>\n",
       "      <td>0.000000</td>\n",
       "    </tr>\n",
       "    <tr>\n",
       "      <th>25%</th>\n",
       "      <td>5.000000</td>\n",
       "      <td>265.724174</td>\n",
       "      <td>1.000000</td>\n",
       "      <td>111.000000</td>\n",
       "      <td>4.551343e+04</td>\n",
       "      <td>1.000000</td>\n",
       "      <td>169.000000</td>\n",
       "      <td>6.000000</td>\n",
       "      <td>155.000000</td>\n",
       "      <td>2.000000</td>\n",
       "    </tr>\n",
       "    <tr>\n",
       "      <th>50%</th>\n",
       "      <td>5.000000</td>\n",
       "      <td>359.045970</td>\n",
       "      <td>3.000000</td>\n",
       "      <td>222.000000</td>\n",
       "      <td>1.078474e+05</td>\n",
       "      <td>1.000000</td>\n",
       "      <td>308.000000</td>\n",
       "      <td>9.000000</td>\n",
       "      <td>155.000000</td>\n",
       "      <td>2.000000</td>\n",
       "    </tr>\n",
       "    <tr>\n",
       "      <th>75%</th>\n",
       "      <td>10.000000</td>\n",
       "      <td>1253.156988</td>\n",
       "      <td>3.000000</td>\n",
       "      <td>444.000000</td>\n",
       "      <td>1.078474e+05</td>\n",
       "      <td>3.000000</td>\n",
       "      <td>451.000000</td>\n",
       "      <td>12.000000</td>\n",
       "      <td>155.000000</td>\n",
       "      <td>2.000000</td>\n",
       "    </tr>\n",
       "    <tr>\n",
       "      <th>max</th>\n",
       "      <td>16.000000</td>\n",
       "      <td>392777.889967</td>\n",
       "      <td>6.000000</td>\n",
       "      <td>999.000000</td>\n",
       "      <td>4.920032e+07</td>\n",
       "      <td>5.000000</td>\n",
       "      <td>590.000000</td>\n",
       "      <td>14.000000</td>\n",
       "      <td>239.000000</td>\n",
       "      <td>5.000000</td>\n",
       "    </tr>\n",
       "  </tbody>\n",
       "</table>\n",
       "</div>"
      ],
      "text/plain": [
       "          PPR_PRODCD    NPR_PREMIUM     CLF_LIFECD  NSP_SUBPROPOSAL  \\\n",
       "count  282815.000000  282815.000000  282815.000000    282815.000000   \n",
       "mean        6.563269    1199.767580       2.565561       314.330135   \n",
       "std         3.850327    2965.959100       1.534623       214.959089   \n",
       "min         0.000000       0.000000       1.000000         0.000000   \n",
       "25%         5.000000     265.724174       1.000000       111.000000   \n",
       "50%         5.000000     359.045970       3.000000       222.000000   \n",
       "75%        10.000000    1253.156988       3.000000       444.000000   \n",
       "max        16.000000  392777.889967       6.000000       999.000000   \n",
       "\n",
       "       NPR_SUMASSURED       NLO_TYPE     AAG_AGCODE  PCL_LOCATCODE  \\\n",
       "count    2.828150e+05  282815.000000  282815.000000  282815.000000   \n",
       "mean     1.078474e+05       1.700879     302.488277       8.241356   \n",
       "std      1.728178e+05       1.058978     168.585970       3.777576   \n",
       "min      0.000000e+00       0.000000       0.000000       0.000000   \n",
       "25%      4.551343e+04       1.000000     169.000000       6.000000   \n",
       "50%      1.078474e+05       1.000000     308.000000       9.000000   \n",
       "75%      1.078474e+05       3.000000     451.000000      12.000000   \n",
       "max      4.920032e+07       5.000000     590.000000      14.000000   \n",
       "\n",
       "          OCCUPATION       CATEGORY  \n",
       "count  282815.000000  282815.000000  \n",
       "mean      150.310952       2.090101  \n",
       "std        36.183737       0.747259  \n",
       "min         0.000000       0.000000  \n",
       "25%       155.000000       2.000000  \n",
       "50%       155.000000       2.000000  \n",
       "75%       155.000000       2.000000  \n",
       "max       239.000000       5.000000  "
      ]
     },
     "execution_count": 25,
     "metadata": {},
     "output_type": "execute_result"
    }
   ],
   "source": [
    "train.describe()"
   ]
  },
  {
   "cell_type": "code",
   "execution_count": 26,
   "metadata": {
    "scrolled": true
   },
   "outputs": [
    {
     "data": {
      "text/html": [
       "<div>\n",
       "<style scoped>\n",
       "    .dataframe tbody tr th:only-of-type {\n",
       "        vertical-align: middle;\n",
       "    }\n",
       "\n",
       "    .dataframe tbody tr th {\n",
       "        vertical-align: top;\n",
       "    }\n",
       "\n",
       "    .dataframe thead th {\n",
       "        text-align: right;\n",
       "    }\n",
       "</style>\n",
       "<table border=\"1\" class=\"dataframe\">\n",
       "  <thead>\n",
       "    <tr style=\"text-align: right;\">\n",
       "      <th></th>\n",
       "      <th>PPR_PRODCD</th>\n",
       "      <th>NPR_PREMIUM</th>\n",
       "      <th>CLF_LIFECD</th>\n",
       "      <th>NSP_SUBPROPOSAL</th>\n",
       "      <th>NPR_SUMASSURED</th>\n",
       "      <th>NLO_TYPE</th>\n",
       "      <th>AAG_AGCODE</th>\n",
       "      <th>PCL_LOCATCODE</th>\n",
       "      <th>OCCUPATION</th>\n",
       "      <th>CATEGORY</th>\n",
       "    </tr>\n",
       "  </thead>\n",
       "  <tbody>\n",
       "    <tr>\n",
       "      <th>count</th>\n",
       "      <td>12000.000000</td>\n",
       "      <td>12000.000000</td>\n",
       "      <td>12000.000000</td>\n",
       "      <td>12000.00000</td>\n",
       "      <td>1.200000e+04</td>\n",
       "      <td>12000.000000</td>\n",
       "      <td>12000.000000</td>\n",
       "      <td>12000.000000</td>\n",
       "      <td>12000.000000</td>\n",
       "      <td>12000.000000</td>\n",
       "    </tr>\n",
       "    <tr>\n",
       "      <th>mean</th>\n",
       "      <td>4.273167</td>\n",
       "      <td>2461.287979</td>\n",
       "      <td>1.724833</td>\n",
       "      <td>194.87750</td>\n",
       "      <td>1.589133e+05</td>\n",
       "      <td>2.558000</td>\n",
       "      <td>254.794750</td>\n",
       "      <td>7.871833</td>\n",
       "      <td>96.477000</td>\n",
       "      <td>2.117417</td>\n",
       "    </tr>\n",
       "    <tr>\n",
       "      <th>std</th>\n",
       "      <td>4.098733</td>\n",
       "      <td>3979.417555</td>\n",
       "      <td>1.264087</td>\n",
       "      <td>154.56813</td>\n",
       "      <td>1.267512e+05</td>\n",
       "      <td>1.147205</td>\n",
       "      <td>140.170056</td>\n",
       "      <td>3.722552</td>\n",
       "      <td>30.132465</td>\n",
       "      <td>0.953261</td>\n",
       "    </tr>\n",
       "    <tr>\n",
       "      <th>min</th>\n",
       "      <td>0.000000</td>\n",
       "      <td>102.361691</td>\n",
       "      <td>1.000000</td>\n",
       "      <td>1.00000</td>\n",
       "      <td>0.000000e+00</td>\n",
       "      <td>0.000000</td>\n",
       "      <td>0.000000</td>\n",
       "      <td>0.000000</td>\n",
       "      <td>0.000000</td>\n",
       "      <td>0.000000</td>\n",
       "    </tr>\n",
       "    <tr>\n",
       "      <th>25%</th>\n",
       "      <td>1.000000</td>\n",
       "      <td>368.688310</td>\n",
       "      <td>1.000000</td>\n",
       "      <td>111.00000</td>\n",
       "      <td>8.740046e+04</td>\n",
       "      <td>1.000000</td>\n",
       "      <td>144.000000</td>\n",
       "      <td>6.000000</td>\n",
       "      <td>78.000000</td>\n",
       "      <td>2.000000</td>\n",
       "    </tr>\n",
       "    <tr>\n",
       "      <th>50%</th>\n",
       "      <td>1.000000</td>\n",
       "      <td>1951.669846</td>\n",
       "      <td>1.000000</td>\n",
       "      <td>111.00000</td>\n",
       "      <td>1.532721e+05</td>\n",
       "      <td>3.000000</td>\n",
       "      <td>267.000000</td>\n",
       "      <td>9.000000</td>\n",
       "      <td>99.000000</td>\n",
       "      <td>2.000000</td>\n",
       "    </tr>\n",
       "    <tr>\n",
       "      <th>75%</th>\n",
       "      <td>9.000000</td>\n",
       "      <td>3187.154301</td>\n",
       "      <td>2.000000</td>\n",
       "      <td>222.00000</td>\n",
       "      <td>1.885467e+05</td>\n",
       "      <td>3.000000</td>\n",
       "      <td>365.250000</td>\n",
       "      <td>11.000000</td>\n",
       "      <td>101.000000</td>\n",
       "      <td>2.000000</td>\n",
       "    </tr>\n",
       "    <tr>\n",
       "      <th>max</th>\n",
       "      <td>13.000000</td>\n",
       "      <td>130795.926359</td>\n",
       "      <td>6.000000</td>\n",
       "      <td>999.00000</td>\n",
       "      <td>3.749573e+06</td>\n",
       "      <td>5.000000</td>\n",
       "      <td>502.000000</td>\n",
       "      <td>14.000000</td>\n",
       "      <td>154.000000</td>\n",
       "      <td>5.000000</td>\n",
       "    </tr>\n",
       "  </tbody>\n",
       "</table>\n",
       "</div>"
      ],
      "text/plain": [
       "         PPR_PRODCD    NPR_PREMIUM    CLF_LIFECD  NSP_SUBPROPOSAL  \\\n",
       "count  12000.000000   12000.000000  12000.000000      12000.00000   \n",
       "mean       4.273167    2461.287979      1.724833        194.87750   \n",
       "std        4.098733    3979.417555      1.264087        154.56813   \n",
       "min        0.000000     102.361691      1.000000          1.00000   \n",
       "25%        1.000000     368.688310      1.000000        111.00000   \n",
       "50%        1.000000    1951.669846      1.000000        111.00000   \n",
       "75%        9.000000    3187.154301      2.000000        222.00000   \n",
       "max       13.000000  130795.926359      6.000000        999.00000   \n",
       "\n",
       "       NPR_SUMASSURED      NLO_TYPE    AAG_AGCODE  PCL_LOCATCODE  \\\n",
       "count    1.200000e+04  12000.000000  12000.000000   12000.000000   \n",
       "mean     1.589133e+05      2.558000    254.794750       7.871833   \n",
       "std      1.267512e+05      1.147205    140.170056       3.722552   \n",
       "min      0.000000e+00      0.000000      0.000000       0.000000   \n",
       "25%      8.740046e+04      1.000000    144.000000       6.000000   \n",
       "50%      1.532721e+05      3.000000    267.000000       9.000000   \n",
       "75%      1.885467e+05      3.000000    365.250000      11.000000   \n",
       "max      3.749573e+06      5.000000    502.000000      14.000000   \n",
       "\n",
       "         OCCUPATION      CATEGORY  \n",
       "count  12000.000000  12000.000000  \n",
       "mean      96.477000      2.117417  \n",
       "std       30.132465      0.953261  \n",
       "min        0.000000      0.000000  \n",
       "25%       78.000000      2.000000  \n",
       "50%       99.000000      2.000000  \n",
       "75%      101.000000      2.000000  \n",
       "max      154.000000      5.000000  "
      ]
     },
     "execution_count": 26,
     "metadata": {},
     "output_type": "execute_result"
    }
   ],
   "source": [
    "test.describe()"
   ]
  },
  {
   "cell_type": "code",
   "execution_count": 27,
   "metadata": {},
   "outputs": [
    {
     "name": "stdout",
     "output_type": "stream",
     "text": [
      "<class 'pandas.core.frame.DataFrame'>\n",
      "Int64Index: 282815 entries, 0 to 282814\n",
      "Data columns (total 10 columns):\n",
      " #   Column           Non-Null Count   Dtype  \n",
      "---  ------           --------------   -----  \n",
      " 0   PPR_PRODCD       282815 non-null  int8   \n",
      " 1   NPR_PREMIUM      282815 non-null  float64\n",
      " 2   CLF_LIFECD       282815 non-null  int64  \n",
      " 3   NSP_SUBPROPOSAL  282815 non-null  int64  \n",
      " 4   NPR_SUMASSURED   282815 non-null  float64\n",
      " 5   NLO_TYPE         282815 non-null  int8   \n",
      " 6   AAG_AGCODE       282815 non-null  int16  \n",
      " 7   PCL_LOCATCODE    282815 non-null  int8   \n",
      " 8   OCCUPATION       282815 non-null  int16  \n",
      " 9   CATEGORY         282815 non-null  int8   \n",
      "dtypes: float64(2), int16(2), int64(2), int8(4)\n",
      "memory usage: 12.9 MB\n"
     ]
    }
   ],
   "source": [
    "train.info()"
   ]
  },
  {
   "cell_type": "code",
   "execution_count": 28,
   "metadata": {},
   "outputs": [
    {
     "data": {
      "text/plain": [
       "PPR_PRODCD         0\n",
       "NPR_PREMIUM        0\n",
       "CLF_LIFECD         0\n",
       "NSP_SUBPROPOSAL    0\n",
       "NPR_SUMASSURED     0\n",
       "NLO_TYPE           0\n",
       "AAG_AGCODE         0\n",
       "PCL_LOCATCODE      0\n",
       "OCCUPATION         0\n",
       "CATEGORY           0\n",
       "dtype: int64"
      ]
     },
     "execution_count": 28,
     "metadata": {},
     "output_type": "execute_result"
    }
   ],
   "source": [
    "train.isnull().sum()"
   ]
  },
  {
   "cell_type": "code",
   "execution_count": 29,
   "metadata": {},
   "outputs": [
    {
     "data": {
      "text/plain": [
       "(282815, 10)"
      ]
     },
     "execution_count": 29,
     "metadata": {},
     "output_type": "execute_result"
    }
   ],
   "source": [
    "train.shape"
   ]
  },
  {
   "cell_type": "code",
   "execution_count": 30,
   "metadata": {},
   "outputs": [
    {
     "data": {
      "text/plain": [
       "(282815,)"
      ]
     },
     "execution_count": 30,
     "metadata": {},
     "output_type": "execute_result"
    }
   ],
   "source": [
    "target_y.shape"
   ]
  },
  {
   "cell_type": "code",
   "execution_count": 31,
   "metadata": {},
   "outputs": [
    {
     "data": {
      "text/plain": [
       "PPR_PRODCD           17\n",
       "NPR_PREMIUM        2235\n",
       "CLF_LIFECD            6\n",
       "NSP_SUBPROPOSAL     171\n",
       "NPR_SUMASSURED     1201\n",
       "NLO_TYPE              6\n",
       "AAG_AGCODE          591\n",
       "PCL_LOCATCODE        15\n",
       "OCCUPATION          240\n",
       "CATEGORY              6\n",
       "dtype: int64"
      ]
     },
     "execution_count": 31,
     "metadata": {},
     "output_type": "execute_result"
    }
   ],
   "source": [
    "train.nunique()"
   ]
  },
  {
   "cell_type": "code",
   "execution_count": 32,
   "metadata": {},
   "outputs": [
    {
     "data": {
      "text/plain": [
       "Index([], dtype='object')"
      ]
     },
     "execution_count": 32,
     "metadata": {},
     "output_type": "execute_result"
    }
   ],
   "source": [
    "train.select_dtypes('object').columns"
   ]
  },
  {
   "cell_type": "code",
   "execution_count": 33,
   "metadata": {},
   "outputs": [],
   "source": [
    "from sklearn.preprocessing import StandardScaler\n",
    "scaler = StandardScaler()\n",
    "train_scaled = train\n",
    "test_scaled = test"
   ]
  },
  {
   "cell_type": "code",
   "execution_count": 34,
   "metadata": {
    "scrolled": true
   },
   "outputs": [
    {
     "data": {
      "text/html": [
       "<div>\n",
       "<style scoped>\n",
       "    .dataframe tbody tr th:only-of-type {\n",
       "        vertical-align: middle;\n",
       "    }\n",
       "\n",
       "    .dataframe tbody tr th {\n",
       "        vertical-align: top;\n",
       "    }\n",
       "\n",
       "    .dataframe thead th {\n",
       "        text-align: right;\n",
       "    }\n",
       "</style>\n",
       "<table border=\"1\" class=\"dataframe\">\n",
       "  <thead>\n",
       "    <tr style=\"text-align: right;\">\n",
       "      <th></th>\n",
       "      <th>PPR_PRODCD</th>\n",
       "      <th>NPR_PREMIUM</th>\n",
       "      <th>CLF_LIFECD</th>\n",
       "      <th>NSP_SUBPROPOSAL</th>\n",
       "      <th>NPR_SUMASSURED</th>\n",
       "      <th>NLO_TYPE</th>\n",
       "      <th>AAG_AGCODE</th>\n",
       "      <th>PCL_LOCATCODE</th>\n",
       "      <th>OCCUPATION</th>\n",
       "      <th>CATEGORY</th>\n",
       "    </tr>\n",
       "  </thead>\n",
       "  <tbody>\n",
       "    <tr>\n",
       "      <th>0</th>\n",
       "      <td>5</td>\n",
       "      <td>265.724174</td>\n",
       "      <td>2</td>\n",
       "      <td>222</td>\n",
       "      <td>107847.386640</td>\n",
       "      <td>1</td>\n",
       "      <td>182</td>\n",
       "      <td>5</td>\n",
       "      <td>155</td>\n",
       "      <td>2</td>\n",
       "    </tr>\n",
       "    <tr>\n",
       "      <th>1</th>\n",
       "      <td>1</td>\n",
       "      <td>2795.069380</td>\n",
       "      <td>1</td>\n",
       "      <td>111</td>\n",
       "      <td>213380.713197</td>\n",
       "      <td>4</td>\n",
       "      <td>171</td>\n",
       "      <td>6</td>\n",
       "      <td>117</td>\n",
       "      <td>5</td>\n",
       "    </tr>\n",
       "    <tr>\n",
       "      <th>2</th>\n",
       "      <td>10</td>\n",
       "      <td>2492.759107</td>\n",
       "      <td>1</td>\n",
       "      <td>111</td>\n",
       "      <td>238857.872515</td>\n",
       "      <td>3</td>\n",
       "      <td>555</td>\n",
       "      <td>12</td>\n",
       "      <td>156</td>\n",
       "      <td>1</td>\n",
       "    </tr>\n",
       "    <tr>\n",
       "      <th>3</th>\n",
       "      <td>10</td>\n",
       "      <td>3982.538095</td>\n",
       "      <td>1</td>\n",
       "      <td>111</td>\n",
       "      <td>74968.903115</td>\n",
       "      <td>3</td>\n",
       "      <td>35</td>\n",
       "      <td>13</td>\n",
       "      <td>208</td>\n",
       "      <td>3</td>\n",
       "    </tr>\n",
       "    <tr>\n",
       "      <th>4</th>\n",
       "      <td>10</td>\n",
       "      <td>1143.953733</td>\n",
       "      <td>3</td>\n",
       "      <td>555</td>\n",
       "      <td>238857.872515</td>\n",
       "      <td>1</td>\n",
       "      <td>226</td>\n",
       "      <td>1</td>\n",
       "      <td>155</td>\n",
       "      <td>2</td>\n",
       "    </tr>\n",
       "  </tbody>\n",
       "</table>\n",
       "</div>"
      ],
      "text/plain": [
       "   PPR_PRODCD  NPR_PREMIUM  CLF_LIFECD  NSP_SUBPROPOSAL  NPR_SUMASSURED  \\\n",
       "0           5   265.724174           2              222   107847.386640   \n",
       "1           1  2795.069380           1              111   213380.713197   \n",
       "2          10  2492.759107           1              111   238857.872515   \n",
       "3          10  3982.538095           1              111    74968.903115   \n",
       "4          10  1143.953733           3              555   238857.872515   \n",
       "\n",
       "   NLO_TYPE  AAG_AGCODE  PCL_LOCATCODE  OCCUPATION  CATEGORY  \n",
       "0         1         182              5         155         2  \n",
       "1         4         171              6         117         5  \n",
       "2         3         555             12         156         1  \n",
       "3         3          35             13         208         3  \n",
       "4         1         226              1         155         2  "
      ]
     },
     "execution_count": 34,
     "metadata": {},
     "output_type": "execute_result"
    }
   ],
   "source": [
    "pd.DataFrame(train_scaled).head()"
   ]
  },
  {
   "cell_type": "code",
   "execution_count": 35,
   "metadata": {
    "scrolled": true
   },
   "outputs": [
    {
     "data": {
      "text/html": [
       "<div>\n",
       "<style scoped>\n",
       "    .dataframe tbody tr th:only-of-type {\n",
       "        vertical-align: middle;\n",
       "    }\n",
       "\n",
       "    .dataframe tbody tr th {\n",
       "        vertical-align: top;\n",
       "    }\n",
       "\n",
       "    .dataframe thead th {\n",
       "        text-align: right;\n",
       "    }\n",
       "</style>\n",
       "<table border=\"1\" class=\"dataframe\">\n",
       "  <thead>\n",
       "    <tr style=\"text-align: right;\">\n",
       "      <th></th>\n",
       "      <th>PPR_PRODCD</th>\n",
       "      <th>NPR_PREMIUM</th>\n",
       "      <th>CLF_LIFECD</th>\n",
       "      <th>NSP_SUBPROPOSAL</th>\n",
       "      <th>NPR_SUMASSURED</th>\n",
       "      <th>NLO_TYPE</th>\n",
       "      <th>AAG_AGCODE</th>\n",
       "      <th>PCL_LOCATCODE</th>\n",
       "      <th>OCCUPATION</th>\n",
       "      <th>CATEGORY</th>\n",
       "    </tr>\n",
       "  </thead>\n",
       "  <tbody>\n",
       "    <tr>\n",
       "      <th>0</th>\n",
       "      <td>9</td>\n",
       "      <td>2418.301728</td>\n",
       "      <td>2</td>\n",
       "      <td>222</td>\n",
       "      <td>45513.429325</td>\n",
       "      <td>1</td>\n",
       "      <td>198</td>\n",
       "      <td>9</td>\n",
       "      <td>99</td>\n",
       "      <td>2</td>\n",
       "    </tr>\n",
       "    <tr>\n",
       "      <th>18</th>\n",
       "      <td>0</td>\n",
       "      <td>807.690177</td>\n",
       "      <td>3</td>\n",
       "      <td>555</td>\n",
       "      <td>145010.003453</td>\n",
       "      <td>3</td>\n",
       "      <td>124</td>\n",
       "      <td>2</td>\n",
       "      <td>99</td>\n",
       "      <td>2</td>\n",
       "    </tr>\n",
       "    <tr>\n",
       "      <th>23</th>\n",
       "      <td>4</td>\n",
       "      <td>191.160414</td>\n",
       "      <td>3</td>\n",
       "      <td>444</td>\n",
       "      <td>158913.260428</td>\n",
       "      <td>1</td>\n",
       "      <td>251</td>\n",
       "      <td>9</td>\n",
       "      <td>99</td>\n",
       "      <td>2</td>\n",
       "    </tr>\n",
       "    <tr>\n",
       "      <th>35</th>\n",
       "      <td>0</td>\n",
       "      <td>401.191521</td>\n",
       "      <td>1</td>\n",
       "      <td>111</td>\n",
       "      <td>45513.429325</td>\n",
       "      <td>3</td>\n",
       "      <td>17</td>\n",
       "      <td>2</td>\n",
       "      <td>99</td>\n",
       "      <td>2</td>\n",
       "    </tr>\n",
       "    <tr>\n",
       "      <th>36</th>\n",
       "      <td>4</td>\n",
       "      <td>191.160414</td>\n",
       "      <td>3</td>\n",
       "      <td>333</td>\n",
       "      <td>158913.260428</td>\n",
       "      <td>1</td>\n",
       "      <td>378</td>\n",
       "      <td>12</td>\n",
       "      <td>99</td>\n",
       "      <td>2</td>\n",
       "    </tr>\n",
       "  </tbody>\n",
       "</table>\n",
       "</div>"
      ],
      "text/plain": [
       "    PPR_PRODCD  NPR_PREMIUM  CLF_LIFECD  NSP_SUBPROPOSAL  NPR_SUMASSURED  \\\n",
       "0            9  2418.301728           2              222    45513.429325   \n",
       "18           0   807.690177           3              555   145010.003453   \n",
       "23           4   191.160414           3              444   158913.260428   \n",
       "35           0   401.191521           1              111    45513.429325   \n",
       "36           4   191.160414           3              333   158913.260428   \n",
       "\n",
       "    NLO_TYPE  AAG_AGCODE  PCL_LOCATCODE  OCCUPATION  CATEGORY  \n",
       "0          1         198              9          99         2  \n",
       "18         3         124              2          99         2  \n",
       "23         1         251              9          99         2  \n",
       "35         3          17              2          99         2  \n",
       "36         1         378             12          99         2  "
      ]
     },
     "execution_count": 35,
     "metadata": {},
     "output_type": "execute_result"
    }
   ],
   "source": [
    "pd.DataFrame(test_scaled).head()"
   ]
  },
  {
   "cell_type": "code",
   "execution_count": 36,
   "metadata": {},
   "outputs": [
    {
     "ename": "AttributeError",
     "evalue": "'numpy.ndarray' object has no attribute 'value_counts'",
     "output_type": "error",
     "traceback": [
      "\u001b[1;31m---------------------------------------------------------------------------\u001b[0m",
      "\u001b[1;31mAttributeError\u001b[0m                            Traceback (most recent call last)",
      "\u001b[1;32m<ipython-input-36-7100eb478863>\u001b[0m in \u001b[0;36m<module>\u001b[1;34m\u001b[0m\n\u001b[1;32m----> 1\u001b[1;33m \u001b[0mtarget_y\u001b[0m\u001b[1;33m.\u001b[0m\u001b[0mvalue_counts\u001b[0m\u001b[1;33m(\u001b[0m\u001b[1;33m)\u001b[0m\u001b[1;33m\u001b[0m\u001b[1;33m\u001b[0m\u001b[0m\n\u001b[0m",
      "\u001b[1;31mAttributeError\u001b[0m: 'numpy.ndarray' object has no attribute 'value_counts'"
     ]
    }
   ],
   "source": [
    "target_y.value_counts()"
   ]
  },
  {
   "cell_type": "code",
   "execution_count": 37,
   "metadata": {},
   "outputs": [
    {
     "data": {
      "text/plain": [
       "0     0\n",
       "1     0\n",
       "2     0\n",
       "3     0\n",
       "4     0\n",
       "5     0\n",
       "6     0\n",
       "7     0\n",
       "8     0\n",
       "9     0\n",
       "10    0\n",
       "11    0\n",
       "12    0\n",
       "13    1\n",
       "14    0\n",
       "15    0\n",
       "16    0\n",
       "17    0\n",
       "18    1\n",
       "19    0\n",
       "20    1\n",
       "21    0\n",
       "22    1\n",
       "23    1\n",
       "24    0\n",
       "25    0\n",
       "26    0\n",
       "27    1\n",
       "28    0\n",
       "29    1\n",
       "dtype: int64"
      ]
     },
     "execution_count": 37,
     "metadata": {},
     "output_type": "execute_result"
    }
   ],
   "source": [
    "pd.Series(target_y).head(30)"
   ]
  },
  {
   "cell_type": "code",
   "execution_count": 38,
   "metadata": {},
   "outputs": [],
   "source": [
    "import seaborn as sns\n",
    "# import matplotlib.pyplot as plt\n",
    "import matplotlib.pylab as plt\n",
    "plt.style.use(\"seaborn\")\n",
    "%matplotlib inline"
   ]
  },
  {
   "cell_type": "code",
   "execution_count": null,
   "metadata": {},
   "outputs": [],
   "source": [
    "# import matplotlib.pyplot as plt\n",
    "\n",
    "# fig, ax = plt.subplots(figsize=(10,10)) # Sample figsize in inches\n",
    "# sns.heatmap(train_scaled, annot=True, linewidths=.5, ax=ax)\n",
    "# plt.title( \"HeatMap using Seaborn Method\" )\n",
    "# plt.show()\n",
    "# # sns.heatmap(train_scaled, annot=True)"
   ]
  },
  {
   "cell_type": "code",
   "execution_count": null,
   "metadata": {},
   "outputs": [],
   "source": [
    "pause"
   ]
  },
  {
   "cell_type": "code",
   "execution_count": 39,
   "metadata": {},
   "outputs": [],
   "source": [
    "# from sklearn.linear_model import LogisticRegression\n",
    "# from sklearn.metrics import log_loss\n",
    "from sklearn.model_selection import train_test_split"
   ]
  },
  {
   "cell_type": "code",
   "execution_count": 40,
   "metadata": {},
   "outputs": [],
   "source": [
    "X_train, X_test, y_train, y_test = train_test_split(train_scaled, target_y, test_size=0.25, random_state=0)"
   ]
  },
  {
   "cell_type": "code",
   "execution_count": 41,
   "metadata": {},
   "outputs": [
    {
     "data": {
      "text/plain": [
       "PPR_PRODCD         0\n",
       "NPR_PREMIUM        0\n",
       "CLF_LIFECD         0\n",
       "NSP_SUBPROPOSAL    0\n",
       "NPR_SUMASSURED     0\n",
       "NLO_TYPE           0\n",
       "AAG_AGCODE         0\n",
       "PCL_LOCATCODE      0\n",
       "OCCUPATION         0\n",
       "CATEGORY           0\n",
       "dtype: int64"
      ]
     },
     "execution_count": 41,
     "metadata": {},
     "output_type": "execute_result"
    }
   ],
   "source": [
    "pd.DataFrame(X_train).isnull().sum()"
   ]
  },
  {
   "cell_type": "code",
   "execution_count": 42,
   "metadata": {},
   "outputs": [],
   "source": [
    "from sklearn.model_selection import cross_validate,GridSearchCV\n",
    "from sklearn.metrics import confusion_matrix , accuracy_score\n",
    "from xgboost import XGBClassifier\n",
    "from sklearn.neighbors import KNeighborsClassifier\n",
    "from sklearn.naive_bayes import GaussianNB\n",
    "from sklearn.tree import DecisionTreeClassifier\n",
    "from sklearn.ensemble import RandomForestClassifier\n",
    "from sklearn.datasets import make_classification"
   ]
  },
  {
   "cell_type": "code",
   "execution_count": 43,
   "metadata": {},
   "outputs": [],
   "source": [
    "dtree_model = DecisionTreeClassifier(max_depth = 3).fit(X_train, y_train)\n",
    "gnb = GaussianNB().fit(X_train, y_train)\n",
    "knn = KNeighborsClassifier(n_neighbors = 22).fit(X_train, y_train)\n",
    "xgb = XGBClassifier()\n",
    "# rf = RandomForestClassifier(n_estimators=100)\n",
    "rf = RandomForestClassifier(n_jobs=-1,max_features= 'sqrt' ,n_estimators=20, oob_score = True) \n",
    "\n",
    "param_grid = { \n",
    "    'n_estimators': [10, 30],\n",
    "    'max_features': ['auto', 'sqrt', 'log2']\n",
    "}\n",
    "\n",
    "CV_rfc = GridSearchCV(estimator=rf, param_grid=param_grid, cv= 5)\n",
    "# CV_rfc.fit(X, y)\n",
    "# print CV_rfc.best_params_"
   ]
  },
  {
   "cell_type": "code",
   "execution_count": 44,
   "metadata": {},
   "outputs": [],
   "source": [
    "from sklearn.ensemble import VotingClassifier\n",
    "estimators=[('knn', knn), ('gnb', gnb), ('dtree_model', dtree_model), ('xgb', xgb), ('CV_rfc',CV_rfc)]\n",
    "ensemble = VotingClassifier(estimators, voting='soft')"
   ]
  },
  {
   "cell_type": "code",
   "execution_count": 45,
   "metadata": {},
   "outputs": [
    {
     "name": "stdout",
     "output_type": "stream",
     "text": [
      "[14:20:12] WARNING: C:/Users/Administrator/workspace/xgboost-win64_release_1.4.0/src/learner.cc:1095: Starting in XGBoost 1.3.0, the default evaluation metric used with the objective 'binary:logistic' was changed from 'error' to 'logloss'. Explicitly set eval_metric if you'd like to restore the old behavior.\n"
     ]
    },
    {
     "data": {
      "text/plain": [
       "0.8079740891604436"
      ]
     },
     "execution_count": 45,
     "metadata": {},
     "output_type": "execute_result"
    }
   ],
   "source": [
    "ensemble.fit(X_train, y_train)\n",
    "ensemble.score(X_test, y_test)"
   ]
  },
  {
   "cell_type": "code",
   "execution_count": 46,
   "metadata": {},
   "outputs": [],
   "source": [
    "predictions=ensemble.predict_proba(test_scaled)[:,1]"
   ]
  },
  {
   "cell_type": "code",
   "execution_count": 47,
   "metadata": {
    "scrolled": true
   },
   "outputs": [
    {
     "data": {
      "text/plain": [
       "array([0.3905953 , 0.3794893 , 0.2293557 , ..., 0.2534319 , 0.20542434,\n",
       "       0.18446962])"
      ]
     },
     "execution_count": 47,
     "metadata": {},
     "output_type": "execute_result"
    }
   ],
   "source": [
    "predictions"
   ]
  },
  {
   "cell_type": "code",
   "execution_count": 48,
   "metadata": {},
   "outputs": [
    {
     "name": "stdout",
     "output_type": "stream",
     "text": [
      "(12000,)\n",
      "(12000, 10)\n",
      "(282815, 10)\n",
      "(212111, 10)\n",
      "(70704, 10)\n",
      "(212111,)\n",
      "(70704,)\n"
     ]
    }
   ],
   "source": [
    "print(predictions.shape)\n",
    "print(test_scaled.shape)\n",
    "print(train_scaled.shape)\n",
    "print(X_train.shape)\n",
    "print(X_test.shape)\n",
    "print(y_train.shape)\n",
    "print(y_test.shape)"
   ]
  },
  {
   "cell_type": "code",
   "execution_count": null,
   "metadata": {},
   "outputs": [],
   "source": [
    "pause"
   ]
  },
  {
   "cell_type": "code",
   "execution_count": null,
   "metadata": {},
   "outputs": [],
   "source": [
    "# log_loss = log_loss(test_scaled, predictions)\n",
    "# log_loss"
   ]
  },
  {
   "cell_type": "code",
   "execution_count": null,
   "metadata": {},
   "outputs": [],
   "source": [
    "# def logloss(a, b, eps=1e-15):\n",
    "#     b = np.clip(b, eps, 1 - eps)\n",
    "#     return -(a * np.log(b)).sum(axis=1).mean()"
   ]
  },
  {
   "cell_type": "code",
   "execution_count": null,
   "metadata": {
    "scrolled": true
   },
   "outputs": [],
   "source": [
    "from sklearn.metrics import log_loss\n",
    "log_loss(test_scaled, predictions)"
   ]
  },
  {
   "cell_type": "code",
   "execution_count": null,
   "metadata": {},
   "outputs": [],
   "source": [
    "second_mrg"
   ]
  },
  {
   "cell_type": "code",
   "execution_count": null,
   "metadata": {},
   "outputs": [],
   "source": [
    "#id_p=_id['Policy ID']\n"
   ]
  },
  {
   "cell_type": "code",
   "execution_count": null,
   "metadata": {},
   "outputs": [],
   "source": [
    "id_p.shape"
   ]
  },
  {
   "cell_type": "code",
   "execution_count": null,
   "metadata": {},
   "outputs": [],
   "source": [
    "predictions.shape"
   ]
  },
  {
   "cell_type": "code",
   "execution_count": 49,
   "metadata": {},
   "outputs": [
    {
     "data": {
      "text/html": [
       "<div>\n",
       "<style scoped>\n",
       "    .dataframe tbody tr th:only-of-type {\n",
       "        vertical-align: middle;\n",
       "    }\n",
       "\n",
       "    .dataframe tbody tr th {\n",
       "        vertical-align: top;\n",
       "    }\n",
       "\n",
       "    .dataframe thead th {\n",
       "        text-align: right;\n",
       "    }\n",
       "</style>\n",
       "<table border=\"1\" class=\"dataframe\">\n",
       "  <thead>\n",
       "    <tr style=\"text-align: right;\">\n",
       "      <th></th>\n",
       "      <th>Policy ID</th>\n",
       "      <th>Lapse</th>\n",
       "    </tr>\n",
       "  </thead>\n",
       "  <tbody>\n",
       "    <tr>\n",
       "      <th>0</th>\n",
       "      <td>PID_VPRO0EG</td>\n",
       "      <td>0.390595</td>\n",
       "    </tr>\n",
       "    <tr>\n",
       "      <th>1</th>\n",
       "      <td>PID_O58E151</td>\n",
       "      <td>0.379489</td>\n",
       "    </tr>\n",
       "    <tr>\n",
       "      <th>2</th>\n",
       "      <td>PID_FLEBYPG</td>\n",
       "      <td>0.229356</td>\n",
       "    </tr>\n",
       "    <tr>\n",
       "      <th>3</th>\n",
       "      <td>PID_KNOH81G</td>\n",
       "      <td>0.360306</td>\n",
       "    </tr>\n",
       "    <tr>\n",
       "      <th>4</th>\n",
       "      <td>PID_BEFJS7O</td>\n",
       "      <td>0.221532</td>\n",
       "    </tr>\n",
       "  </tbody>\n",
       "</table>\n",
       "</div>"
      ],
      "text/plain": [
       "     Policy ID     Lapse\n",
       "0  PID_VPRO0EG  0.390595\n",
       "1  PID_O58E151  0.379489\n",
       "2  PID_FLEBYPG  0.229356\n",
       "3  PID_KNOH81G  0.360306\n",
       "4  PID_BEFJS7O  0.221532"
      ]
     },
     "execution_count": 49,
     "metadata": {},
     "output_type": "execute_result"
    }
   ],
   "source": [
    "submit_prep = {'Policy ID':id_p, 'Lapse': predictions}\n",
    "submission = pd.DataFrame(data = submit_prep)\n",
    "submission=submission.reset_index(drop=True)\n",
    "submission.head()"
   ]
  },
  {
   "cell_type": "code",
   "execution_count": null,
   "metadata": {},
   "outputs": [],
   "source": [
    "pause"
   ]
  },
  {
   "cell_type": "code",
   "execution_count": 50,
   "metadata": {},
   "outputs": [],
   "source": [
    "submission.to_csv('Sixth.csv', index=False)"
   ]
  },
  {
   "cell_type": "code",
   "execution_count": null,
   "metadata": {},
   "outputs": [],
   "source": []
  }
 ],
 "metadata": {
  "kernelspec": {
   "display_name": "Python 3",
   "language": "python",
   "name": "python3"
  },
  "language_info": {
   "codemirror_mode": {
    "name": "ipython",
    "version": 3
   },
   "file_extension": ".py",
   "mimetype": "text/x-python",
   "name": "python",
   "nbconvert_exporter": "python",
   "pygments_lexer": "ipython3",
   "version": "3.7.0"
  }
 },
 "nbformat": 4,
 "nbformat_minor": 4
}
